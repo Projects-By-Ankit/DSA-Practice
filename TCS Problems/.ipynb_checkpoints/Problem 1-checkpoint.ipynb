{
 "cells": [
  {
   "cell_type": "markdown",
   "id": "712d629d-071a-4cae-879d-9ef1558a7d4f",
   "metadata": {},
   "source": [
    "'''A solid cube of 10 cm x 10cm x 10 cm rests on the ground.  \n",
    "It has a beetle on it, and some sweet honey spots at various locations on the surface of the cube.  \n",
    "The beetle starts at a point on the surface of the cube, and goes to the honey spots in order along the surface of the cube.\n",
    "\n",
    "Problem Description\n",
    "A solid cube of 10 cm x 10cm x 10 cm rests on the ground.  \n",
    "It has a beetle on it, and some sweet honey spots at various locations on the surface of the cube.  \n",
    "The beetle starts at a point on the surface of the cube, and goes to the honey spots in order along the surface of the cube.\n",
    "\n",
    "1.If it goes from a point to another point on the same face (say X to Y), \n",
    "it goes in an arc of a circle that subtends an angle of 60 degrees at the centre of the circle\n",
    "\n",
    "2.If it goes from one point to another on a different face, \n",
    "it goes by the shortest path on the surface of the cube, \n",
    "except that it never travels along the bottom of the cube\n",
    "\n",
    "The beetle is a student of Cartesian geometry, \n",
    "and knows the coordinates (x, y, z) of all the points it needs to go to.  \n",
    "The origin of coordinates it uses is one corner of the cube on the ground, and the z axis points up.  \n",
    "Hence, the bottom surface (on which it does not crawl) is z=0, and the top surface is z=10.  \n",
    "The beetle keeps track of all the distances travelled, and rounds the distance travelled to two decimal places once it reaches the next spot, \n",
    "so that the final distance is a sum of the rounded distances from spot to spot.\n",
    "\n",
    "\n",
    "Input\n",
    "The first line gives an integer N, the total number of points (including the starting point) the beetle visits\n",
    "\n",
    "The second line is a set of 3N comma separated non-negative numbers, with up to two decimal places each.  These are to be interpreted in groups of three as the x, y, z coordinates of the points the beetle needs to visit in the given order.\n",
    "\n",
    "Output\n",
    "One line with a number giving the total distance travelled by the beetle accurate to two decimal places.  Even if the distance travelled is an integer, the output should have two decimal places.\n",
    "\n",
    "Constraints\n",
    "None of the points the beetle visits is on the bottom face (z=0) or on any of the edges of the cube (the lines where two faces meet)\n",
    "\n",
    "2<=N<=10\n",
    "\n",
    "Difficulty Level\n",
    "Complex\n",
    "\n",
    "Time Limit (secs)\n",
    "1\n",
    "'''"
   ]
  },
  {
   "cell_type": "markdown",
   "id": "d63f6233-3796-49b3-9713-13166c93442e",
   "metadata": {},
   "source": [
    "''' Examples\n",
    "Example 1\n",
    "\n",
    "Input\n",
    "\n",
    "3\n",
    "\n",
    "1,1,10,2,1,10,0,1,9\n",
    "\n",
    "Output\n",
    "\n",
    "4.05\n",
    "\n",
    "Explanation\n",
    "\n",
    "There are three points visited by the beetle (N=3). \n",
    "The beetle starts on the top face of the cube (z=10) at point (1,1,10) and goes to another point on the same face (2,1,10). \n",
    "Though the straight line distance is 1, it travels on the arc of a circle subtending an angle of 60 degrees at the centre of the circle, \n",
    "and hence travels (2*pi)/6 or 1.05 (note that it rounds the distance at each leg of the journey). \n",
    "It then travels from (2,1,10) on the face z=10 to (0,1,9) on the face x=0 along the surface of the cube. This is a distance of 3.  \n",
    "The total distance travelled is 1.05+3=4.05.  \n",
    "\n",
    "The output is 4.05\n",
    "\n",
    "Example 2\n",
    "\n",
    "Input\n",
    "\n",
    "3\n",
    "\n",
    "1,1,10,2,1,10,0,5,9\n",
    "\n",
    "Output\n",
    "\n",
    "6.05\n",
    "\n",
    "Explanation\n",
    "\n",
    "There are three points visited by the beetle (N=3). \n",
    "The beetle starts on the top face of the cube (z=10) at point (1,1,10) and goes to another point on the same face (2,1,10).  \n",
    "As before. This distance is 1.05.   \n",
    "It then travels from (2,1,10) on the face z=10 to (0,5,9) on the face x=0 along the surface of the cube. \n",
    "The shortest distance on the surface of the cube between these points is 5.  The total distance travelled is 1.05+5=6.05.  \n",
    "\n",
    "The output is 6.05.'''"
   ]
  },
  {
   "cell_type": "code",
   "execution_count": 31,
   "id": "a664d0e0-0f99-4b84-8761-cf71202d7a03",
   "metadata": {},
   "outputs": [],
   "source": [
    "import math\n",
    "def tot_dist(N,points):\n",
    "    ans=0\n",
    "    for i in range(N-1):\n",
    "        curr=points[i]\n",
    "        next=points[i+1]\n",
    "        cod=sum([math.sqrt((curr[0]-next[0])**2),math.sqrt((curr[1]-next[1])**2),math.sqrt((curr[2]-next[2])**2)])\n",
    "        # print(math.sqrt((curr[0]-next[0])**2),math.sqrt((curr[0]-next[1])**2),math.sqrt((curr[2]-next[2])**2))\n",
    "        # print(cod)\n",
    "        same_plane=True if cod==1 else False\n",
    "        x1,x2=min(curr[0],next[0]),max(curr[0],next[0])\n",
    "        y1,y2=min(curr[1],next[1]),max(curr[1],next[1])        \n",
    "        z1,z2=min(curr[2],next[2]),max(curr[2],next[2])\n",
    "        xy=x2-x1 if x2>y2 else y2-y1\n",
    "        z=z2-z1\n",
    "        ans+=(1.05*xy+1.05*z) if same_plane else (xy+z)\n",
    "\n",
    "    return ans\n",
    "        # print(same_plane)"
   ]
  },
  {
   "cell_type": "code",
   "execution_count": 34,
   "id": "029b9164-8aef-4d41-8d0a-54ebc0178d45",
   "metadata": {},
   "outputs": [
    {
     "name": "stdin",
     "output_type": "stream",
     "text": [
      " 3\n",
      " 1 1 10 2 1 10 0 5 9\n"
     ]
    },
    {
     "data": {
      "text/plain": [
       "6.05"
      ]
     },
     "execution_count": 34,
     "metadata": {},
     "output_type": "execute_result"
    }
   ],
   "source": [
    "N=int(input())\n",
    "arr=list(map(float,input().split()))\n",
    "points=[]\n",
    "for i in range(3,len(arr)+1,3):points.append((tuple(arr[i-3:i])))\n",
    "\n",
    "tot_dist(N,points)\n"
   ]
  },
  {
   "cell_type": "code",
   "execution_count": null,
   "id": "345822cd-c353-4efe-90c9-62fe45531d39",
   "metadata": {},
   "outputs": [],
   "source": []
  },
  {
   "cell_type": "code",
   "execution_count": null,
   "id": "0b80c518-5b38-4cb4-951a-f3e3ea5dc47f",
   "metadata": {},
   "outputs": [],
   "source": []
  }
 ],
 "metadata": {
  "kernelspec": {
   "display_name": "Python 3 (ipykernel)",
   "language": "python",
   "name": "python3"
  },
  "language_info": {
   "codemirror_mode": {
    "name": "ipython",
    "version": 3
   },
   "file_extension": ".py",
   "mimetype": "text/x-python",
   "name": "python",
   "nbconvert_exporter": "python",
   "pygments_lexer": "ipython3",
   "version": "3.11.4"
  }
 },
 "nbformat": 4,
 "nbformat_minor": 5
}

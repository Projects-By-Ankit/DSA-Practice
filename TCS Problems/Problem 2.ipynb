{
 "cells": [
  {
   "cell_type": "markdown",
   "id": "59c1d1af-301b-4490-9aff-73c73ba6b176",
   "metadata": {},
   "source": [
    "''' \n",
    "The parcel section of the Head Post Office is in a mess.  The parcels that need to be loaded to the vans have been lined up in a row in an arbitrary order of weights.  The Head Post Master wants them to be sorted in the increasing order of the weights of the parcels, with one exception.  He wants the heaviest (and presumably the most valuable) parcel kept nearest his office.\r\n",
    "\r\n",
    "Problem Description\r\n",
    "The parcel section of the Head Post Office is in a mess.  The parcels that need to be loaded to the vans have been lined up in a row in an arbitrary order of weights.  The Head Post Master wants them to be sorted in the increasing order of the weights of the parcels, with one exception.  He wants the heaviest (and presumably the most valuable) parcel kept nearest his office.\r\n",
    "\r\n",
    " You and your friend try to sort these boxes and you decide to sort them by interchanging two boxes at a time.  Such an interchange needs effort equals to the product of the weights of the two boxes. \r\n",
    "\r\n",
    "The objective is to reposition the boxes as required with minimum effort.\r\n",
    "\r\n",
    "Input\r\n",
    "The first line consists of two space separated positive integers giving the number of boxes (N) and the position of the Head Post Masterâ€™s office (k) where the heaviest box must be.\r\n",
    "\r\n",
    "The second line consists of N space separated positive integers giving the weights of the boxes.  You may assume that no two weights are equal.\r\n",
    "\r\n",
    "Output\r\n",
    "The output is one line giving the total effort taken to get the boxes in sorted order, and the heaviest in position k.\r\n",
    "\r\n",
    "Constraints\r\n",
    "N<=50\r\n",
    "\r\n",
    "Weights <= 1000\r\n",
    "\r\n",
    "Difficulty Level\r\n",
    "Complex\r\n",
    "\r\n",
    "Time Limit (secs)\r\n",
    "1\n",
    "'''"
   ]
  },
  {
   "cell_type": "markdown",
   "id": "57a893fd-05c5-4f12-b60a-babd01a81cd9",
   "metadata": {},
   "source": [
    "'''\n",
    "Examples\r\n",
    "Example 1\r\n",
    "\r\n",
    "Input\r\n",
    "\r\n",
    "5 2\r\n",
    "\r\n",
    "20 50 30 80 70\r\n",
    "\r\n",
    "Output\r\n",
    "\r\n",
    "3600\r\n",
    "\r\n",
    "Explanation\r\n",
    "\r\n",
    "There are 5 boxes (N=5) and the heaviest box must be in position 2 (k=2).  If we look at the final order (sorted, with the heaviest at position 2), it should be 20 80 30 50 70.  If we look at this, we notice that only the 50 and the 80 parcels need to be exchanged.  As this takes effort of the product of the weights, the effort is 4000.   \r\n",
    "\r\n",
    "Further reduction can be obtained if we use the smallest package (20) as an intermediary.  If we exchange 20 with 50 (effort 1000), then with 80 (effort 1600) and back with 50 again (effort 1000), the effect is the same, with a total effort of 3600 (less th an the effort obtained by the direct move)an the effort\r\n",
    "\r\n",
    "The results after the optimal sequence of exchanges are\r\n",
    "\r\n",
    "50 20 30 80 70\r\n",
    "\r\n",
    "50 80 30 20 70\r\n",
    "\r\n",
    "20 80 30 80 70\r\n",
    "\r\n",
    " \r\n",
    "\r\n",
    "As this takes an effort of 3600, the output is 3600.\r\n",
    "\r\n",
    "Example 2\r\n",
    "\r\n",
    "Input\r\n",
    "\r\n",
    "6 3\r\n",
    "\r\n",
    "30 20 40 80 70 60\r\n",
    "\r\n",
    "Output\r\n",
    "\r\n",
    "7600\r\n",
    "\r\n",
    "Explanation\r\n",
    "\r\n",
    "There are 6 parcels, and the heaviest should be at position 3.  Hence the final order needs to be 20 30 80 40 60 70.  If we look at the initial position, we see that 20 and 30 need to be exchanged (effort 600), 40 and 80 need to be exchanged (effort 3200) and 60 and 70 need to be exchanged (effort 4200).  Hence the total effort is 600+3200+4200=8000. \r\n",
    "\r\n",
    "If we use the same approach as in Example 1, we get the following efforts\r\n",
    "\r\n",
    " \r\n",
    "\r\n",
    "(600)   20 30 40 80 70 60\r\n",
    "\r\n",
    "(3200) 20 30 80 40 70 60   \r\n",
    "\r\n",
    "(1200) 60 30 80 40 70 20\r\n",
    "\r\n",
    "(1400) 60 30 80 40 20 70\r\n",
    "\r\n",
    "(1200) 20 30 80 40 60 70\r\n",
    "\r\n",
    "A total effort of 7600 is obtained rather than an effort of 8000, which is the output.\n",
    "'''"
   ]
  },
  {
   "cell_type": "code",
   "execution_count": 2,
   "id": "0ae2fc2b-62e5-4e92-a43c-d4df8a89112b",
   "metadata": {},
   "outputs": [],
   "source": [
    "import time"
   ]
  },
  {
   "cell_type": "code",
   "execution_count": 3,
   "id": "f434705b-efe5-429f-8aa2-86312ac2526f",
   "metadata": {},
   "outputs": [],
   "source": [
    "def modified_selection(cost,tg,mn,arr):\n",
    "    i=0\n",
    "    while i<len(arr)-1:\n",
    "        idx=0\n",
    "        mini=arr[i]\n",
    "        for j in range(i+1,len(arr)):\n",
    "            if i!=tg and j!=tg and arr[j]<mini:\n",
    "                idx=j\n",
    "                mini=arr[j]\n",
    "        if idx:\n",
    "            swap=arr[i]*arr[idx]\n",
    "            left=2*mn*arr[i]+(mn*arr[idx])\n",
    "            right=2*mn*arr[idx]+(mn*arr[i])\n",
    "            cost+=min([swap,left,right])\n",
    "            arr[i],arr[idx]=arr[idx],arr[i]\n",
    "        i+=1\n",
    "    return arr,cost\n",
    " "
   ]
  },
  {
   "cell_type": "code",
   "execution_count": 4,
   "id": "a204ca13-601a-4b5d-8204-305828f6a37b",
   "metadata": {},
   "outputs": [],
   "source": [
    "def box_sort(tg,arr):\n",
    "    mini=0\n",
    "    maxi=0\n",
    "    cost=0\n",
    "    mn=arr[0]\n",
    "    for i in range(len(arr)):\n",
    "        if arr[mini]>arr[i]:\n",
    "            mini=i\n",
    "            mn=arr[i]\n",
    "        if arr[maxi]<arr[i]:maxi=i\n",
    "    swap=arr[tg]*arr[maxi]\n",
    "    left=2*arr[tg]*arr[mini]+(arr[mini]*arr[maxi])\n",
    "    right=2*arr[maxi]*arr[mini]+(arr[mini]*arr[tg])\n",
    "    cost=min([swap,left,right])\n",
    "    arr[tg],arr[maxi]=arr[maxi],arr[tg]\n",
    "    return modified_selection(cost,tg,mn,arr)\n"
   ]
  },
  {
   "cell_type": "code",
   "execution_count": 5,
   "id": "8cc035ee-ae28-4cbe-841d-fde39a223430",
   "metadata": {},
   "outputs": [
    {
     "name": "stdout",
     "output_type": "stream",
     "text": [
      "([20, 80, 30, 50, 70], 3600)\n",
      "([20, 30, 80, 40, 60, 70], 7600)\n"
     ]
    }
   ],
   "source": [
    "# start=time.time()\n",
    "# print(box_sort(1-1,[20,50,10,40,30,45,2,1,6,8,32,24])) #([50, 1, 2, 6, 8, 10, 20, 24, 30, 32, 40, 45], 669)\n",
    "print(box_sort(2-1,[20, 50, 30, 80, 70])) #([20, 80, 30, 50, 70], 3600)\n",
    "print(box_sort(3-1,[30, 20, 40, 80, 70, 60])) #([20, 30, 80, 40, 60, 70], 7600)\n",
    "# end=time.time()\n",
    "# print(end-start)\n",
    "\n"
   ]
  },
  {
   "cell_type": "code",
   "execution_count": null,
   "id": "0710571c-10e6-4dd5-8c81-bf49ee5c3225",
   "metadata": {},
   "outputs": [],
   "source": []
  },
  {
   "cell_type": "code",
   "execution_count": null,
   "id": "a1439276-9490-4fed-a9ff-5211a98e0380",
   "metadata": {},
   "outputs": [],
   "source": []
  },
  {
   "cell_type": "code",
   "execution_count": null,
   "id": "c0ef22b5-f0e6-499a-b5f6-7f7900f9718c",
   "metadata": {},
   "outputs": [],
   "source": []
  },
  {
   "cell_type": "code",
   "execution_count": null,
   "id": "ed466e45-8c4b-40f4-be95-d6a0e238f104",
   "metadata": {},
   "outputs": [],
   "source": []
  }
 ],
 "metadata": {
  "kernelspec": {
   "display_name": "Python 3 (ipykernel)",
   "language": "python",
   "name": "python3"
  },
  "language_info": {
   "codemirror_mode": {
    "name": "ipython",
    "version": 3
   },
   "file_extension": ".py",
   "mimetype": "text/x-python",
   "name": "python",
   "nbconvert_exporter": "python",
   "pygments_lexer": "ipython3",
   "version": "3.11.4"
  }
 },
 "nbformat": 4,
 "nbformat_minor": 5
}
